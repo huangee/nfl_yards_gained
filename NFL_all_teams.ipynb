{
 "cells": [
  {
   "cell_type": "code",
   "execution_count": 1,
   "metadata": {},
   "outputs": [],
   "source": [
    "import psycopg2 as pg\n",
    "import pandas as pd\n",
    "import pandas.io.sql as pd_sql\n",
    "import numpy as np\n",
    "\n",
    "# visualization imports\n",
    "import matplotlib.pyplot as plt\n",
    "import seaborn as sns\n",
    "plt.style.use('fivethirtyeight')\n",
    "\n",
    "%matplotlib inline\n",
    "\n",
    "# modelling imports\n",
    "from sklearn.linear_model import LogisticRegression\n",
    "from sklearn.model_selection import train_test_split\n",
    "from sklearn.metrics import precision_score, recall_score, accuracy_score, roc_auc_score, roc_curve, precision_recall_curve, f1_score\n",
    "from sklearn.metrics import classification_report, confusion_matrix\n",
    "from sklearn.preprocessing import StandardScaler\n"
   ]
  },
  {
   "cell_type": "code",
   "execution_count": 2,
   "metadata": {},
   "outputs": [],
   "source": [
    "# Postgres info to connect\n",
    "\n",
    "connection_args = {\n",
    "    'host': 'localhost',\n",
    "    'dbname': 'nfl_db',\n",
    "    'port': 5432\n",
    "}\n",
    "\n",
    "connection = pg.connect(**connection_args) # Unpacks dictionary keys and values"
   ]
  },
  {
   "cell_type": "code",
   "execution_count": 3,
   "metadata": {},
   "outputs": [],
   "source": [
    "# create dataframe from selected columns\n",
    "\n",
    "query = \"SELECT play_id, game_date, yards_gained, play_type, posteam, \\\n",
    "        ydsnet, yardline_100, quarter_seconds_remaining, qtr, down, ydstogo \\\n",
    "        FROM nfl_plays \\\n",
    "        WHERE play_type IN ('pass','run');\"\n",
    "\n",
    "df_all = pd_sql.read_sql(query, connection)"
   ]
  },
  {
   "cell_type": "code",
   "execution_count": 4,
   "metadata": {},
   "outputs": [
    {
     "data": {
      "text/html": [
       "<div>\n",
       "<style scoped>\n",
       "    .dataframe tbody tr th:only-of-type {\n",
       "        vertical-align: middle;\n",
       "    }\n",
       "\n",
       "    .dataframe tbody tr th {\n",
       "        vertical-align: top;\n",
       "    }\n",
       "\n",
       "    .dataframe thead th {\n",
       "        text-align: right;\n",
       "    }\n",
       "</style>\n",
       "<table border=\"1\" class=\"dataframe\">\n",
       "  <thead>\n",
       "    <tr style=\"text-align: right;\">\n",
       "      <th></th>\n",
       "      <th>play_id</th>\n",
       "      <th>game_date</th>\n",
       "      <th>yards_gained</th>\n",
       "      <th>play_type</th>\n",
       "      <th>posteam</th>\n",
       "      <th>ydsnet</th>\n",
       "      <th>yardline_100</th>\n",
       "      <th>quarter_seconds_remaining</th>\n",
       "      <th>qtr</th>\n",
       "      <th>down</th>\n",
       "      <th>ydstogo</th>\n",
       "    </tr>\n",
       "  </thead>\n",
       "  <tbody>\n",
       "    <tr>\n",
       "      <th>0</th>\n",
       "      <td>68</td>\n",
       "      <td>2009-09-10</td>\n",
       "      <td>5.0</td>\n",
       "      <td>pass</td>\n",
       "      <td>PIT</td>\n",
       "      <td>5</td>\n",
       "      <td>58.0</td>\n",
       "      <td>893.0</td>\n",
       "      <td>1</td>\n",
       "      <td>1.0</td>\n",
       "      <td>10</td>\n",
       "    </tr>\n",
       "    <tr>\n",
       "      <th>1</th>\n",
       "      <td>92</td>\n",
       "      <td>2009-09-10</td>\n",
       "      <td>-3.0</td>\n",
       "      <td>run</td>\n",
       "      <td>PIT</td>\n",
       "      <td>2</td>\n",
       "      <td>53.0</td>\n",
       "      <td>856.0</td>\n",
       "      <td>1</td>\n",
       "      <td>2.0</td>\n",
       "      <td>5</td>\n",
       "    </tr>\n",
       "    <tr>\n",
       "      <th>2</th>\n",
       "      <td>113</td>\n",
       "      <td>2009-09-10</td>\n",
       "      <td>0.0</td>\n",
       "      <td>pass</td>\n",
       "      <td>PIT</td>\n",
       "      <td>2</td>\n",
       "      <td>56.0</td>\n",
       "      <td>815.0</td>\n",
       "      <td>1</td>\n",
       "      <td>3.0</td>\n",
       "      <td>8</td>\n",
       "    </tr>\n",
       "    <tr>\n",
       "      <th>3</th>\n",
       "      <td>162</td>\n",
       "      <td>2009-09-10</td>\n",
       "      <td>0.0</td>\n",
       "      <td>run</td>\n",
       "      <td>TEN</td>\n",
       "      <td>0</td>\n",
       "      <td>98.0</td>\n",
       "      <td>796.0</td>\n",
       "      <td>1</td>\n",
       "      <td>1.0</td>\n",
       "      <td>10</td>\n",
       "    </tr>\n",
       "    <tr>\n",
       "      <th>4</th>\n",
       "      <td>183</td>\n",
       "      <td>2009-09-10</td>\n",
       "      <td>4.0</td>\n",
       "      <td>pass</td>\n",
       "      <td>TEN</td>\n",
       "      <td>4</td>\n",
       "      <td>98.0</td>\n",
       "      <td>760.0</td>\n",
       "      <td>1</td>\n",
       "      <td>2.0</td>\n",
       "      <td>10</td>\n",
       "    </tr>\n",
       "  </tbody>\n",
       "</table>\n",
       "</div>"
      ],
      "text/plain": [
       "   play_id   game_date  yards_gained play_type posteam  ydsnet  yardline_100  \\\n",
       "0       68  2009-09-10           5.0      pass     PIT       5          58.0   \n",
       "1       92  2009-09-10          -3.0       run     PIT       2          53.0   \n",
       "2      113  2009-09-10           0.0      pass     PIT       2          56.0   \n",
       "3      162  2009-09-10           0.0       run     TEN       0          98.0   \n",
       "4      183  2009-09-10           4.0      pass     TEN       4          98.0   \n",
       "\n",
       "   quarter_seconds_remaining  qtr  down  ydstogo  \n",
       "0                      893.0    1   1.0       10  \n",
       "1                      856.0    1   2.0        5  \n",
       "2                      815.0    1   3.0        8  \n",
       "3                      796.0    1   1.0       10  \n",
       "4                      760.0    1   2.0       10  "
      ]
     },
     "execution_count": 4,
     "metadata": {},
     "output_type": "execute_result"
    }
   ],
   "source": [
    "df_all.head()"
   ]
  },
  {
   "cell_type": "code",
   "execution_count": 5,
   "metadata": {},
   "outputs": [
    {
     "data": {
      "text/html": [
       "<div>\n",
       "<style scoped>\n",
       "    .dataframe tbody tr th:only-of-type {\n",
       "        vertical-align: middle;\n",
       "    }\n",
       "\n",
       "    .dataframe tbody tr th {\n",
       "        vertical-align: top;\n",
       "    }\n",
       "\n",
       "    .dataframe thead th {\n",
       "        text-align: right;\n",
       "    }\n",
       "</style>\n",
       "<table border=\"1\" class=\"dataframe\">\n",
       "  <thead>\n",
       "    <tr style=\"text-align: right;\">\n",
       "      <th></th>\n",
       "      <th>play_id</th>\n",
       "      <th>game_date</th>\n",
       "      <th>yards_gained</th>\n",
       "      <th>play_type</th>\n",
       "      <th>posteam</th>\n",
       "      <th>ydsnet</th>\n",
       "      <th>yardline_100</th>\n",
       "      <th>quarter_seconds_remaining</th>\n",
       "      <th>qtr</th>\n",
       "      <th>down</th>\n",
       "      <th>ydstogo</th>\n",
       "      <th>passing</th>\n",
       "    </tr>\n",
       "  </thead>\n",
       "  <tbody>\n",
       "    <tr>\n",
       "      <th>0</th>\n",
       "      <td>68</td>\n",
       "      <td>2009-09-10</td>\n",
       "      <td>5.0</td>\n",
       "      <td>pass</td>\n",
       "      <td>PIT</td>\n",
       "      <td>5</td>\n",
       "      <td>58.0</td>\n",
       "      <td>893.0</td>\n",
       "      <td>1</td>\n",
       "      <td>1.0</td>\n",
       "      <td>10</td>\n",
       "      <td>1</td>\n",
       "    </tr>\n",
       "    <tr>\n",
       "      <th>1</th>\n",
       "      <td>92</td>\n",
       "      <td>2009-09-10</td>\n",
       "      <td>-3.0</td>\n",
       "      <td>run</td>\n",
       "      <td>PIT</td>\n",
       "      <td>2</td>\n",
       "      <td>53.0</td>\n",
       "      <td>856.0</td>\n",
       "      <td>1</td>\n",
       "      <td>2.0</td>\n",
       "      <td>5</td>\n",
       "      <td>0</td>\n",
       "    </tr>\n",
       "    <tr>\n",
       "      <th>2</th>\n",
       "      <td>113</td>\n",
       "      <td>2009-09-10</td>\n",
       "      <td>0.0</td>\n",
       "      <td>pass</td>\n",
       "      <td>PIT</td>\n",
       "      <td>2</td>\n",
       "      <td>56.0</td>\n",
       "      <td>815.0</td>\n",
       "      <td>1</td>\n",
       "      <td>3.0</td>\n",
       "      <td>8</td>\n",
       "      <td>1</td>\n",
       "    </tr>\n",
       "    <tr>\n",
       "      <th>3</th>\n",
       "      <td>162</td>\n",
       "      <td>2009-09-10</td>\n",
       "      <td>0.0</td>\n",
       "      <td>run</td>\n",
       "      <td>TEN</td>\n",
       "      <td>0</td>\n",
       "      <td>98.0</td>\n",
       "      <td>796.0</td>\n",
       "      <td>1</td>\n",
       "      <td>1.0</td>\n",
       "      <td>10</td>\n",
       "      <td>0</td>\n",
       "    </tr>\n",
       "    <tr>\n",
       "      <th>4</th>\n",
       "      <td>183</td>\n",
       "      <td>2009-09-10</td>\n",
       "      <td>4.0</td>\n",
       "      <td>pass</td>\n",
       "      <td>TEN</td>\n",
       "      <td>4</td>\n",
       "      <td>98.0</td>\n",
       "      <td>760.0</td>\n",
       "      <td>1</td>\n",
       "      <td>2.0</td>\n",
       "      <td>10</td>\n",
       "      <td>1</td>\n",
       "    </tr>\n",
       "  </tbody>\n",
       "</table>\n",
       "</div>"
      ],
      "text/plain": [
       "   play_id   game_date  yards_gained play_type posteam  ydsnet  yardline_100  \\\n",
       "0       68  2009-09-10           5.0      pass     PIT       5          58.0   \n",
       "1       92  2009-09-10          -3.0       run     PIT       2          53.0   \n",
       "2      113  2009-09-10           0.0      pass     PIT       2          56.0   \n",
       "3      162  2009-09-10           0.0       run     TEN       0          98.0   \n",
       "4      183  2009-09-10           4.0      pass     TEN       4          98.0   \n",
       "\n",
       "   quarter_seconds_remaining  qtr  down  ydstogo  passing  \n",
       "0                      893.0    1   1.0       10        1  \n",
       "1                      856.0    1   2.0        5        0  \n",
       "2                      815.0    1   3.0        8        1  \n",
       "3                      796.0    1   1.0       10        0  \n",
       "4                      760.0    1   2.0       10        1  "
      ]
     },
     "execution_count": 5,
     "metadata": {},
     "output_type": "execute_result"
    }
   ],
   "source": [
    "# create binary for if the play is a pass\n",
    "\n",
    "df_all['passing'] = df_all['play_type'].apply(lambda x: 1 if x == 'pass' else 0) \n",
    "df_all.head()"
   ]
  },
  {
   "cell_type": "code",
   "execution_count": 6,
   "metadata": {},
   "outputs": [
    {
     "data": {
      "text/html": [
       "<div>\n",
       "<style scoped>\n",
       "    .dataframe tbody tr th:only-of-type {\n",
       "        vertical-align: middle;\n",
       "    }\n",
       "\n",
       "    .dataframe tbody tr th {\n",
       "        vertical-align: top;\n",
       "    }\n",
       "\n",
       "    .dataframe thead th {\n",
       "        text-align: right;\n",
       "    }\n",
       "</style>\n",
       "<table border=\"1\" class=\"dataframe\">\n",
       "  <thead>\n",
       "    <tr style=\"text-align: right;\">\n",
       "      <th></th>\n",
       "      <th>play_id</th>\n",
       "      <th>game_date</th>\n",
       "      <th>yards_gained</th>\n",
       "      <th>play_type</th>\n",
       "      <th>posteam</th>\n",
       "      <th>ydsnet</th>\n",
       "      <th>yardline_100</th>\n",
       "      <th>quarter_seconds_remaining</th>\n",
       "      <th>qtr</th>\n",
       "      <th>down</th>\n",
       "      <th>ydstogo</th>\n",
       "      <th>passing</th>\n",
       "      <th>yards_g_l</th>\n",
       "    </tr>\n",
       "  </thead>\n",
       "  <tbody>\n",
       "    <tr>\n",
       "      <th>0</th>\n",
       "      <td>68</td>\n",
       "      <td>2009-09-10</td>\n",
       "      <td>5.0</td>\n",
       "      <td>pass</td>\n",
       "      <td>PIT</td>\n",
       "      <td>5</td>\n",
       "      <td>58.0</td>\n",
       "      <td>893.0</td>\n",
       "      <td>1</td>\n",
       "      <td>1.0</td>\n",
       "      <td>10</td>\n",
       "      <td>1</td>\n",
       "      <td>gain</td>\n",
       "    </tr>\n",
       "    <tr>\n",
       "      <th>1</th>\n",
       "      <td>92</td>\n",
       "      <td>2009-09-10</td>\n",
       "      <td>-3.0</td>\n",
       "      <td>run</td>\n",
       "      <td>PIT</td>\n",
       "      <td>2</td>\n",
       "      <td>53.0</td>\n",
       "      <td>856.0</td>\n",
       "      <td>1</td>\n",
       "      <td>2.0</td>\n",
       "      <td>5</td>\n",
       "      <td>0</td>\n",
       "      <td>loss</td>\n",
       "    </tr>\n",
       "    <tr>\n",
       "      <th>2</th>\n",
       "      <td>113</td>\n",
       "      <td>2009-09-10</td>\n",
       "      <td>0.0</td>\n",
       "      <td>pass</td>\n",
       "      <td>PIT</td>\n",
       "      <td>2</td>\n",
       "      <td>56.0</td>\n",
       "      <td>815.0</td>\n",
       "      <td>1</td>\n",
       "      <td>3.0</td>\n",
       "      <td>8</td>\n",
       "      <td>1</td>\n",
       "      <td>loss</td>\n",
       "    </tr>\n",
       "    <tr>\n",
       "      <th>3</th>\n",
       "      <td>162</td>\n",
       "      <td>2009-09-10</td>\n",
       "      <td>0.0</td>\n",
       "      <td>run</td>\n",
       "      <td>TEN</td>\n",
       "      <td>0</td>\n",
       "      <td>98.0</td>\n",
       "      <td>796.0</td>\n",
       "      <td>1</td>\n",
       "      <td>1.0</td>\n",
       "      <td>10</td>\n",
       "      <td>0</td>\n",
       "      <td>loss</td>\n",
       "    </tr>\n",
       "    <tr>\n",
       "      <th>4</th>\n",
       "      <td>183</td>\n",
       "      <td>2009-09-10</td>\n",
       "      <td>4.0</td>\n",
       "      <td>pass</td>\n",
       "      <td>TEN</td>\n",
       "      <td>4</td>\n",
       "      <td>98.0</td>\n",
       "      <td>760.0</td>\n",
       "      <td>1</td>\n",
       "      <td>2.0</td>\n",
       "      <td>10</td>\n",
       "      <td>1</td>\n",
       "      <td>gain</td>\n",
       "    </tr>\n",
       "  </tbody>\n",
       "</table>\n",
       "</div>"
      ],
      "text/plain": [
       "   play_id   game_date  yards_gained play_type posteam  ydsnet  yardline_100  \\\n",
       "0       68  2009-09-10           5.0      pass     PIT       5          58.0   \n",
       "1       92  2009-09-10          -3.0       run     PIT       2          53.0   \n",
       "2      113  2009-09-10           0.0      pass     PIT       2          56.0   \n",
       "3      162  2009-09-10           0.0       run     TEN       0          98.0   \n",
       "4      183  2009-09-10           4.0      pass     TEN       4          98.0   \n",
       "\n",
       "   quarter_seconds_remaining  qtr  down  ydstogo  passing yards_g_l  \n",
       "0                      893.0    1   1.0       10        1      gain  \n",
       "1                      856.0    1   2.0        5        0      loss  \n",
       "2                      815.0    1   3.0        8        1      loss  \n",
       "3                      796.0    1   1.0       10        0      loss  \n",
       "4                      760.0    1   2.0       10        1      gain  "
      ]
     },
     "execution_count": 6,
     "metadata": {},
     "output_type": "execute_result"
    }
   ],
   "source": [
    "# create y for if the yards_gained were positive or not\n",
    "\n",
    "df_all['yards_g_l'] = df_all['yards_gained'].apply(lambda x: 'gain' if x > 0 else 'loss')\n",
    "df_all.head()"
   ]
  },
  {
   "cell_type": "code",
   "execution_count": 7,
   "metadata": {},
   "outputs": [
    {
     "name": "stdout",
     "output_type": "stream",
     "text": [
      "<class 'pandas.core.frame.DataFrame'>\n",
      "Int64Index: 318481 entries, 0 to 319368\n",
      "Data columns (total 13 columns):\n",
      "play_id                      318481 non-null int64\n",
      "game_date                    318481 non-null object\n",
      "yards_gained                 318481 non-null float64\n",
      "play_type                    318481 non-null object\n",
      "posteam                      318481 non-null object\n",
      "ydsnet                       318481 non-null int64\n",
      "yardline_100                 318481 non-null float64\n",
      "quarter_seconds_remaining    318481 non-null float64\n",
      "qtr                          318481 non-null int64\n",
      "down                         318481 non-null float64\n",
      "ydstogo                      318481 non-null int64\n",
      "passing                      318481 non-null int64\n",
      "yards_g_l                    318481 non-null object\n",
      "dtypes: float64(4), int64(5), object(4)\n",
      "memory usage: 34.0+ MB\n"
     ]
    }
   ],
   "source": [
    "df_all.dropna(inplace=True)\n",
    "df_all.info()"
   ]
  },
  {
   "cell_type": "code",
   "execution_count": 8,
   "metadata": {},
   "outputs": [
    {
     "data": {
      "text/plain": [
       "Index(['play_id', 'game_date', 'yards_gained', 'play_type', 'posteam',\n",
       "       'ydsnet', 'yardline_100', 'quarter_seconds_remaining', 'qtr', 'down',\n",
       "       'ydstogo', 'passing', 'yards_g_l'],\n",
       "      dtype='object')"
      ]
     },
     "execution_count": 8,
     "metadata": {},
     "output_type": "execute_result"
    }
   ],
   "source": [
    "df_all.columns"
   ]
  },
  {
   "cell_type": "code",
   "execution_count": 9,
   "metadata": {},
   "outputs": [],
   "source": [
    "X_train, X_test, y_train, y_test = train_test_split(df_all.iloc[:, 5:12], df_all.iloc[:, 12], \n",
    "                                                    test_size = 0.2, random_state=33)"
   ]
  },
  {
   "cell_type": "code",
   "execution_count": 10,
   "metadata": {},
   "outputs": [
    {
     "data": {
      "text/plain": [
       "22379     1\n",
       "283482    1\n",
       "171648    0\n",
       "214030    1\n",
       "250360    1\n",
       "14159     1\n",
       "317281    0\n",
       "226150    1\n",
       "217813    1\n",
       "3067      1\n",
       "Name: yards_g_l, dtype: int64"
      ]
     },
     "execution_count": 10,
     "metadata": {},
     "output_type": "execute_result"
    }
   ],
   "source": [
    "y_test_binary = y_test.apply(lambda x: 1 if x == 'gain' else 0)\n",
    "y_test_binary.head(10)"
   ]
  },
  {
   "cell_type": "code",
   "execution_count": 11,
   "metadata": {},
   "outputs": [
    {
     "data": {
      "text/html": [
       "<div>\n",
       "<style scoped>\n",
       "    .dataframe tbody tr th:only-of-type {\n",
       "        vertical-align: middle;\n",
       "    }\n",
       "\n",
       "    .dataframe tbody tr th {\n",
       "        vertical-align: top;\n",
       "    }\n",
       "\n",
       "    .dataframe thead th {\n",
       "        text-align: right;\n",
       "    }\n",
       "</style>\n",
       "<table border=\"1\" class=\"dataframe\">\n",
       "  <thead>\n",
       "    <tr style=\"text-align: right;\">\n",
       "      <th></th>\n",
       "      <th>play_id</th>\n",
       "      <th>game_date</th>\n",
       "      <th>yards_gained</th>\n",
       "      <th>play_type</th>\n",
       "      <th>posteam</th>\n",
       "      <th>ydsnet</th>\n",
       "      <th>yardline_100</th>\n",
       "      <th>quarter_seconds_remaining</th>\n",
       "      <th>qtr</th>\n",
       "      <th>down</th>\n",
       "      <th>ydstogo</th>\n",
       "      <th>passing</th>\n",
       "    </tr>\n",
       "    <tr>\n",
       "      <th>yards_g_l</th>\n",
       "      <th></th>\n",
       "      <th></th>\n",
       "      <th></th>\n",
       "      <th></th>\n",
       "      <th></th>\n",
       "      <th></th>\n",
       "      <th></th>\n",
       "      <th></th>\n",
       "      <th></th>\n",
       "      <th></th>\n",
       "      <th></th>\n",
       "      <th></th>\n",
       "    </tr>\n",
       "  </thead>\n",
       "  <tbody>\n",
       "    <tr>\n",
       "      <th>gain</th>\n",
       "      <td>211470</td>\n",
       "      <td>211470</td>\n",
       "      <td>211470</td>\n",
       "      <td>211470</td>\n",
       "      <td>211470</td>\n",
       "      <td>211470</td>\n",
       "      <td>211470</td>\n",
       "      <td>211470</td>\n",
       "      <td>211470</td>\n",
       "      <td>211470</td>\n",
       "      <td>211470</td>\n",
       "      <td>211470</td>\n",
       "    </tr>\n",
       "    <tr>\n",
       "      <th>loss</th>\n",
       "      <td>107011</td>\n",
       "      <td>107011</td>\n",
       "      <td>107011</td>\n",
       "      <td>107011</td>\n",
       "      <td>107011</td>\n",
       "      <td>107011</td>\n",
       "      <td>107011</td>\n",
       "      <td>107011</td>\n",
       "      <td>107011</td>\n",
       "      <td>107011</td>\n",
       "      <td>107011</td>\n",
       "      <td>107011</td>\n",
       "    </tr>\n",
       "  </tbody>\n",
       "</table>\n",
       "</div>"
      ],
      "text/plain": [
       "           play_id  game_date  yards_gained  play_type  posteam  ydsnet  \\\n",
       "yards_g_l                                                                 \n",
       "gain        211470     211470        211470     211470   211470  211470   \n",
       "loss        107011     107011        107011     107011   107011  107011   \n",
       "\n",
       "           yardline_100  quarter_seconds_remaining     qtr    down  ydstogo  \\\n",
       "yards_g_l                                                                     \n",
       "gain             211470                     211470  211470  211470   211470   \n",
       "loss             107011                     107011  107011  107011   107011   \n",
       "\n",
       "           passing  \n",
       "yards_g_l           \n",
       "gain        211470  \n",
       "loss        107011  "
      ]
     },
     "execution_count": 11,
     "metadata": {},
     "output_type": "execute_result"
    }
   ],
   "source": [
    "df_all.groupby('yards_g_l').count()\n",
    "# ratio of yards gain to yards loss is 69.4% to 30.6%\n",
    "# model needs to have a score better than 69.4%"
   ]
  },
  {
   "cell_type": "code",
   "execution_count": 12,
   "metadata": {},
   "outputs": [
    {
     "name": "stderr",
     "output_type": "stream",
     "text": [
      "/anaconda3/lib/python3.7/site-packages/sklearn/preprocessing/data.py:625: DataConversionWarning: Data with input dtype int64, float64 were all converted to float64 by StandardScaler.\n",
      "  return self.partial_fit(X, y)\n",
      "/anaconda3/lib/python3.7/site-packages/sklearn/base.py:462: DataConversionWarning: Data with input dtype int64, float64 were all converted to float64 by StandardScaler.\n",
      "  return self.fit(X, **fit_params).transform(X)\n",
      "/anaconda3/lib/python3.7/site-packages/sklearn/preprocessing/data.py:625: DataConversionWarning: Data with input dtype int64, float64 were all converted to float64 by StandardScaler.\n",
      "  return self.partial_fit(X, y)\n",
      "/anaconda3/lib/python3.7/site-packages/sklearn/base.py:462: DataConversionWarning: Data with input dtype int64, float64 were all converted to float64 by StandardScaler.\n",
      "  return self.fit(X, **fit_params).transform(X)\n"
     ]
    }
   ],
   "source": [
    "std_scale = StandardScaler()\n",
    "\n",
    "X_train_scaled = std_scale.fit_transform(X_train)\n",
    "X_test_scaled = std_scale.fit_transform(X_test)"
   ]
  },
  {
   "cell_type": "code",
   "execution_count": 16,
   "metadata": {},
   "outputs": [],
   "source": [
    "labels = ['loss','gain']"
   ]
  },
  {
   "cell_type": "markdown",
   "metadata": {},
   "source": [
    "## Logistic Regression"
   ]
  },
  {
   "cell_type": "code",
   "execution_count": 13,
   "metadata": {},
   "outputs": [
    {
     "name": "stderr",
     "output_type": "stream",
     "text": [
      "/anaconda3/lib/python3.7/site-packages/sklearn/linear_model/logistic.py:433: FutureWarning: Default solver will be changed to 'lbfgs' in 0.22. Specify a solver to silence this warning.\n",
      "  FutureWarning)\n"
     ]
    },
    {
     "data": {
      "text/plain": [
       "LogisticRegression(C=1.0, class_weight=None, dual=False, fit_intercept=True,\n",
       "          intercept_scaling=1, max_iter=100, multi_class='warn',\n",
       "          n_jobs=None, penalty='l2', random_state=12, solver='warn',\n",
       "          tol=0.0001, verbose=0, warm_start=False)"
      ]
     },
     "execution_count": 13,
     "metadata": {},
     "output_type": "execute_result"
    }
   ],
   "source": [
    "model_lr_scaled = LogisticRegression(random_state = 12)\n",
    "model_lr_scaled.fit(X_train_scaled, y_train)"
   ]
  },
  {
   "cell_type": "code",
   "execution_count": 14,
   "metadata": {},
   "outputs": [
    {
     "data": {
      "text/plain": [
       "0.7300971788310282"
      ]
     },
     "execution_count": 14,
     "metadata": {},
     "output_type": "execute_result"
    }
   ],
   "source": [
    "model_lr_scaled.score(X_test_scaled, y_test)"
   ]
  },
  {
   "cell_type": "code",
   "execution_count": 17,
   "metadata": {},
   "outputs": [
    {
     "name": "stdout",
     "output_type": "stream",
     "text": [
      "              precision    recall  f1-score   support\n",
      "\n",
      "        loss       0.66      0.41      0.50     21288\n",
      "        gain       0.75      0.89      0.81     42409\n",
      "\n",
      "   micro avg       0.73      0.73      0.73     63697\n",
      "   macro avg       0.70      0.65      0.66     63697\n",
      "weighted avg       0.72      0.73      0.71     63697\n",
      "\n"
     ]
    }
   ],
   "source": [
    "print(classification_report(y_test, model_lr_scaled.predict(X_test_scaled), labels))"
   ]
  },
  {
   "cell_type": "code",
   "execution_count": 18,
   "metadata": {},
   "outputs": [
    {
     "name": "stdout",
     "output_type": "stream",
     "text": [
      "ROC AUC score =  0.7488290122611849\n"
     ]
    },
    {
     "data": {
      "image/png": "[encoded data removed]",
      "text/plain": [
       "<Figure size 432x288 with 1 Axes>"
      ]
     },
     "metadata": {
      "needs_background": "light"
     },
     "output_type": "display_data"
    }
   ],
   "source": [
    "fpr, tpr, thresholds = roc_curve(y_test_binary, model_lr_scaled.predict_proba(X_test_scaled)[:,0])\n",
    "\n",
    "plt.plot(fpr, tpr,lw=2)\n",
    "plt.plot([0,1],[0,1],c='violet',ls='--')\n",
    "plt.xlim([-0.05,1.05])\n",
    "plt.ylim([-0.05,1.05])\n",
    "\n",
    "plt.xlabel('False positive rate')\n",
    "plt.ylabel('True positive rate')\n",
    "plt.title('LR ROC curve for yard gains in NFL plays');\n",
    "print(\"ROC AUC score = \", roc_auc_score(y_test_binary, model_lr_scaled.predict_proba(X_test_scaled)[:,0]))"
   ]
  },
  {
   "cell_type": "markdown",
   "metadata": {},
   "source": [
    "## KNN"
   ]
  },
  {
   "cell_type": "code",
   "execution_count": 19,
   "metadata": {},
   "outputs": [],
   "source": [
    "from sklearn import neighbors\n",
    "model_knn = neighbors.KNeighborsClassifier()"
   ]
  },
  {
   "cell_type": "code",
   "execution_count": 20,
   "metadata": {},
   "outputs": [
    {
     "data": {
      "text/plain": [
       "KNeighborsClassifier(algorithm='auto', leaf_size=30, metric='minkowski',\n",
       "           metric_params=None, n_jobs=None, n_neighbors=5, p=2,\n",
       "           weights='uniform')"
      ]
     },
     "execution_count": 20,
     "metadata": {},
     "output_type": "execute_result"
    }
   ],
   "source": [
    "model_knn.fit(X_train_scaled, y_train)"
   ]
  },
  {
   "cell_type": "code",
   "execution_count": 21,
   "metadata": {},
   "outputs": [
    {
     "data": {
      "text/plain": [
       "0.75688022983814"
      ]
     },
     "execution_count": 21,
     "metadata": {},
     "output_type": "execute_result"
    }
   ],
   "source": [
    "model_knn.score(X_test_scaled, y_test)"
   ]
  },
  {
   "cell_type": "code",
   "execution_count": 22,
   "metadata": {},
   "outputs": [
    {
     "name": "stdout",
     "output_type": "stream",
     "text": [
      "              precision    recall  f1-score   support\n",
      "\n",
      "        loss       0.66      0.57      0.61     21288\n",
      "        gain       0.80      0.85      0.82     42409\n",
      "\n",
      "   micro avg       0.76      0.76      0.76     63697\n",
      "   macro avg       0.73      0.71      0.72     63697\n",
      "weighted avg       0.75      0.76      0.75     63697\n",
      "\n"
     ]
    }
   ],
   "source": [
    "print(classification_report(y_test, model_knn.predict(X_test_scaled), labels))"
   ]
  },
  {
   "cell_type": "code",
   "execution_count": 23,
   "metadata": {},
   "outputs": [
    {
     "name": "stdout",
     "output_type": "stream",
     "text": [
      "ROC AUC score =  0.7841757228415838\n"
     ]
    },
    {
     "data": {
      "image/png": "[encoded data removed]",
      "text/plain": [
       "<Figure size 432x288 with 1 Axes>"
      ]
     },
     "metadata": {
      "needs_background": "light"
     },
     "output_type": "display_data"
    }
   ],
   "source": [
    "fpr, tpr, thresholds = roc_curve(y_test_binary, model_knn.predict_proba(X_test_scaled)[:,0])\n",
    "\n",
    "plt.plot(fpr, tpr,lw=2)\n",
    "plt.plot([0,1],[0,1],c='violet',ls='--')\n",
    "plt.xlim([-0.05,1.05])\n",
    "plt.ylim([-0.05,1.05])\n",
    "\n",
    "plt.xlabel('False positive rate')\n",
    "plt.ylabel('True positive rate')\n",
    "plt.title('KNN ROC curve for yard gains in NFL plays');\n",
    "print(\"ROC AUC score = \", roc_auc_score(y_test_binary, model_knn.predict_proba(X_test_scaled)[:,0]))"
   ]
  },
  {
   "cell_type": "markdown",
   "metadata": {},
   "source": [
    "## SVM"
   ]
  },
  {
   "cell_type": "code",
   "execution_count": 24,
   "metadata": {},
   "outputs": [],
   "source": [
    "from sklearn.svm import SVC\n",
    "model_svm = SVC(random_state = 30)"
   ]
  },
  {
   "cell_type": "code",
   "execution_count": 25,
   "metadata": {},
   "outputs": [
    {
     "data": {
      "text/plain": [
       "SVC(C=1.0, cache_size=200, class_weight=None, coef0=0.0,\n",
       "  decision_function_shape='ovr', degree=3, gamma='auto_deprecated',\n",
       "  kernel='rbf', max_iter=-1, probability=False, random_state=30,\n",
       "  shrinking=True, tol=0.001, verbose=False)"
      ]
     },
     "execution_count": 25,
     "metadata": {},
     "output_type": "execute_result"
    }
   ],
   "source": [
    "model_svm.fit(X_train_scaled, y_train)"
   ]
  },
  {
   "cell_type": "code",
   "execution_count": 26,
   "metadata": {},
   "outputs": [
    {
     "data": {
      "text/plain": [
       "0.7531594894579022"
      ]
     },
     "execution_count": 26,
     "metadata": {},
     "output_type": "execute_result"
    }
   ],
   "source": [
    "model_svm.score(X_test_scaled, y_test)"
   ]
  },
  {
   "cell_type": "code",
   "execution_count": 27,
   "metadata": {},
   "outputs": [
    {
     "name": "stdout",
     "output_type": "stream",
     "text": [
      "              precision    recall  f1-score   support\n",
      "\n",
      "        loss       0.70      0.47      0.56     21288\n",
      "        gain       0.77      0.90      0.83     42409\n",
      "\n",
      "   micro avg       0.75      0.75      0.75     63697\n",
      "   macro avg       0.73      0.68      0.69     63697\n",
      "weighted avg       0.74      0.75      0.74     63697\n",
      "\n"
     ]
    }
   ],
   "source": [
    "print(classification_report(y_test, model_svm.predict(X_test_scaled), labels))"
   ]
  },
  {
   "cell_type": "markdown",
   "metadata": {},
   "source": [
    "## Decision Tree"
   ]
  },
  {
   "cell_type": "code",
   "execution_count": 28,
   "metadata": {},
   "outputs": [],
   "source": [
    "from sklearn import tree"
   ]
  },
  {
   "cell_type": "code",
   "execution_count": 41,
   "metadata": {},
   "outputs": [],
   "source": [
    "model_tree = tree.DecisionTreeClassifier(max_depth=11, random_state=44)"
   ]
  },
  {
   "cell_type": "code",
   "execution_count": 42,
   "metadata": {},
   "outputs": [
    {
     "data": {
      "text/plain": [
       "DecisionTreeClassifier(class_weight=None, criterion='gini', max_depth=11,\n",
       "            max_features=None, max_leaf_nodes=None,\n",
       "            min_impurity_decrease=0.0, min_impurity_split=None,\n",
       "            min_samples_leaf=1, min_samples_split=2,\n",
       "            min_weight_fraction_leaf=0.0, presort=False, random_state=44,\n",
       "            splitter='best')"
      ]
     },
     "execution_count": 42,
     "metadata": {},
     "output_type": "execute_result"
    }
   ],
   "source": [
    "model_tree.fit(X_train, y_train)"
   ]
  },
  {
   "cell_type": "code",
   "execution_count": 43,
   "metadata": {},
   "outputs": [
    {
     "data": {
      "text/plain": [
       "0.8192272670183371"
      ]
     },
     "execution_count": 43,
     "metadata": {},
     "output_type": "execute_result"
    }
   ],
   "source": [
    "model_tree.score(X_train, y_train)"
   ]
  },
  {
   "cell_type": "code",
   "execution_count": 44,
   "metadata": {},
   "outputs": [
    {
     "data": {
      "text/plain": [
       "0.8113568927892993"
      ]
     },
     "execution_count": 44,
     "metadata": {},
     "output_type": "execute_result"
    }
   ],
   "source": [
    "model_tree.score(X_test, y_test)"
   ]
  },
  {
   "cell_type": "code",
   "execution_count": 33,
   "metadata": {},
   "outputs": [],
   "source": [
    "train_score = []\n",
    "test_score = []\n",
    "\n",
    "for i in range(1,21):\n",
    "    model_test = tree.DecisionTreeClassifier(max_depth=i, random_state=44)\n",
    "    model_test.fit(X_train, y_train)\n",
    "    train_score.append(model_test.score(X_train, y_train))\n",
    "    test_score.append(model_test.score(X_test, y_test))"
   ]
  },
  {
   "cell_type": "code",
   "execution_count": 34,
   "metadata": {},
   "outputs": [
    {
     "data": {
      "text/plain": [
       "[0.7283973875910575,\n",
       " 0.7283973875910575,\n",
       " 0.731929791509671,\n",
       " 0.7450350100477267,\n",
       " 0.7601772481788496,\n",
       " 0.7690749811605124,\n",
       " 0.7841230218538056,\n",
       " 0.7976246546093946,\n",
       " 0.8059218789248932,\n",
       " 0.8148156870133132,\n",
       " 0.8192272670183371,\n",
       " 0.8246593192665159,\n",
       " 0.8297656053755338,\n",
       " 0.8352447563426275,\n",
       " 0.8419170748555639,\n",
       " 0.8494253956292389,\n",
       " 0.8593082768148707,\n",
       " 0.8693167545842753,\n",
       " 0.8808206166792263,\n",
       " 0.8928778887214268]"
      ]
     },
     "execution_count": 34,
     "metadata": {},
     "output_type": "execute_result"
    }
   ],
   "source": [
    "train_score\n"
   ]
  },
  {
   "cell_type": "code",
   "execution_count": 39,
   "metadata": {},
   "outputs": [
    {
     "data": {
      "text/plain": [
       "[0.7284173508956466,\n",
       " 0.7284173508956466,\n",
       " 0.7321066926228865,\n",
       " 0.7442422720065309,\n",
       " 0.7605695715653799,\n",
       " 0.7683878361618287,\n",
       " 0.7834905882537639,\n",
       " 0.7943388228644991,\n",
       " 0.8013407224830055,\n",
       " 0.8092531830384476,\n",
       " 0.8113568927892993,\n",
       " 0.8137274910906322,\n",
       " 0.8134449032136521,\n",
       " 0.8114824874012905,\n",
       " 0.8091589870794543,\n",
       " 0.8042764965382985,\n",
       " 0.8009011413410365,\n",
       " 0.7968821137573198,\n",
       " 0.7923136097461418,\n",
       " 0.7866775515330392]"
      ]
     },
     "execution_count": 39,
     "metadata": {},
     "output_type": "execute_result"
    }
   ],
   "source": [
    "test_score"
   ]
  },
  {
   "cell_type": "code",
   "execution_count": 40,
   "metadata": {},
   "outputs": [
    {
     "data": {
      "image/png": "[encoded data removed]",
      "text/plain": [
       "<Figure size 432x288 with 1 Axes>"
      ]
     },
     "metadata": {
      "needs_background": "light"
     },
     "output_type": "display_data"
    }
   ],
   "source": [
    "plt.plot(range(1,21), test_score, 'b', range(1,21), train_score, 'r')\n",
    "plt.show()\n",
    "\n",
    "# using max_depth of 9 gives best result on test set"
   ]
  },
  {
   "cell_type": "code",
   "execution_count": 45,
   "metadata": {},
   "outputs": [
    {
     "name": "stdout",
     "output_type": "stream",
     "text": [
      "              precision    recall  f1-score   support\n",
      "\n",
      "        loss       0.74      0.67      0.70     21288\n",
      "        gain       0.84      0.88      0.86     42409\n",
      "\n",
      "   micro avg       0.81      0.81      0.81     63697\n",
      "   macro avg       0.79      0.78      0.78     63697\n",
      "weighted avg       0.81      0.81      0.81     63697\n",
      "\n"
     ]
    }
   ],
   "source": [
    "print(classification_report(y_test, model_tree.predict(X_test), labels))"
   ]
  },
  {
   "cell_type": "code",
   "execution_count": 46,
   "metadata": {},
   "outputs": [
    {
     "name": "stdout",
     "output_type": "stream",
     "text": [
      "ROC AUC score =  0.858264683457027\n"
     ]
    },
    {
     "data": {
      "image/png": "[encoded data removed]",
      "text/plain": [
       "<Figure size 432x288 with 1 Axes>"
      ]
     },
     "metadata": {
      "needs_background": "light"
     },
     "output_type": "display_data"
    }
   ],
   "source": [
    "fpr, tpr, thresholds = roc_curve(y_test_binary, model_tree.predict_proba(X_test)[:,0])\n",
    "\n",
    "plt.plot(fpr, tpr,lw=2)\n",
    "plt.plot([0,1],[0,1],c='violet',ls='--')\n",
    "plt.xlim([-0.05,1.05])\n",
    "plt.ylim([-0.05,1.05])\n",
    "\n",
    "plt.xlabel('False positive rate')\n",
    "plt.ylabel('True positive rate')\n",
    "plt.title('ROC curve for yard gains in NFL plays');\n",
    "print(\"ROC AUC score = \", roc_auc_score(y_test_binary, model_tree.predict_proba(X_test)[:,0]))"
   ]
  },
  {
   "cell_type": "markdown",
   "metadata": {},
   "source": [
    "## Naive Bayes - Gaussian"
   ]
  },
  {
   "cell_type": "code",
   "execution_count": 47,
   "metadata": {},
   "outputs": [],
   "source": [
    "from sklearn import naive_bayes"
   ]
  },
  {
   "cell_type": "code",
   "execution_count": 48,
   "metadata": {},
   "outputs": [],
   "source": [
    "model_NB_Gaus = naive_bayes.GaussianNB()"
   ]
  },
  {
   "cell_type": "code",
   "execution_count": 49,
   "metadata": {},
   "outputs": [
    {
     "data": {
      "text/plain": [
       "GaussianNB(priors=None, var_smoothing=1e-09)"
      ]
     },
     "execution_count": 49,
     "metadata": {},
     "output_type": "execute_result"
    }
   ],
   "source": [
    "model_NB_Gaus.fit(X_train_scaled, y_train)"
   ]
  },
  {
   "cell_type": "code",
   "execution_count": 50,
   "metadata": {},
   "outputs": [
    {
     "data": {
      "text/plain": [
       "0.7010691241345747"
      ]
     },
     "execution_count": 50,
     "metadata": {},
     "output_type": "execute_result"
    }
   ],
   "source": [
    "model_NB_Gaus.score(X_test_scaled, y_test)"
   ]
  },
  {
   "cell_type": "markdown",
   "metadata": {},
   "source": [
    "## Extra Trees"
   ]
  },
  {
   "cell_type": "code",
   "execution_count": 51,
   "metadata": {},
   "outputs": [],
   "source": [
    "from sklearn import ensemble"
   ]
  },
  {
   "cell_type": "code",
   "execution_count": 52,
   "metadata": {},
   "outputs": [],
   "source": [
    "model_xtrees = ensemble.ExtraTreesClassifier(n_estimators=100, random_state=15)"
   ]
  },
  {
   "cell_type": "code",
   "execution_count": 53,
   "metadata": {},
   "outputs": [
    {
     "data": {
      "text/plain": [
       "ExtraTreesClassifier(bootstrap=False, class_weight=None, criterion='gini',\n",
       "           max_depth=None, max_features='auto', max_leaf_nodes=None,\n",
       "           min_impurity_decrease=0.0, min_impurity_split=None,\n",
       "           min_samples_leaf=1, min_samples_split=2,\n",
       "           min_weight_fraction_leaf=0.0, n_estimators=100, n_jobs=None,\n",
       "           oob_score=False, random_state=15, verbose=0, warm_start=False)"
      ]
     },
     "execution_count": 53,
     "metadata": {},
     "output_type": "execute_result"
    }
   ],
   "source": [
    "model_xtrees.fit(X_train, y_train)"
   ]
  },
  {
   "cell_type": "code",
   "execution_count": 54,
   "metadata": {},
   "outputs": [
    {
     "data": {
      "text/plain": [
       "0.7910419642997315"
      ]
     },
     "execution_count": 54,
     "metadata": {},
     "output_type": "execute_result"
    }
   ],
   "source": [
    "model_xtrees.score(X_test, y_test)"
   ]
  },
  {
   "cell_type": "code",
   "execution_count": 55,
   "metadata": {},
   "outputs": [
    {
     "name": "stdout",
     "output_type": "stream",
     "text": [
      "              precision    recall  f1-score   support\n",
      "\n",
      "        loss       0.72      0.61      0.66     21288\n",
      "        gain       0.82      0.88      0.85     42409\n",
      "\n",
      "   micro avg       0.79      0.79      0.79     63697\n",
      "   macro avg       0.77      0.74      0.75     63697\n",
      "weighted avg       0.79      0.79      0.79     63697\n",
      "\n"
     ]
    }
   ],
   "source": [
    "print(classification_report(y_test, model_xtrees.predict(X_test), labels))"
   ]
  },
  {
   "cell_type": "code",
   "execution_count": 56,
   "metadata": {},
   "outputs": [
    {
     "name": "stdout",
     "output_type": "stream",
     "text": [
      "ROC AUC score =  0.8352174773735082\n"
     ]
    },
    {
     "data": {
      "image/png": "[encoded data removed]",
      "text/plain": [
       "<Figure size 432x288 with 1 Axes>"
      ]
     },
     "metadata": {
      "needs_background": "light"
     },
     "output_type": "display_data"
    }
   ],
   "source": [
    "fpr, tpr, thresholds = roc_curve(y_test_binary, model_xtrees.predict_proba(X_test)[:,0])\n",
    "\n",
    "plt.plot(fpr, tpr,lw=2)\n",
    "plt.plot([0,1],[0,1],c='violet',ls='--')\n",
    "plt.xlim([-0.05,1.05])\n",
    "plt.ylim([-0.05,1.05])\n",
    "\n",
    "plt.xlabel('False positive rate')\n",
    "plt.ylabel('True positive rate')\n",
    "plt.title('ROC curve for yard gains in NFL plays');\n",
    "print(\"ROC AUC score = \", roc_auc_score(y_test_binary, model_xtrees.predict_proba(X_test)[:,0]))"
   ]
  },
  {
   "cell_type": "markdown",
   "metadata": {},
   "source": [
    "## Random Forest"
   ]
  },
  {
   "cell_type": "code",
   "execution_count": 57,
   "metadata": {},
   "outputs": [],
   "source": [
    "model_rf = ensemble.RandomForestClassifier(n_estimators=100, random_state=15)\n"
   ]
  },
  {
   "cell_type": "code",
   "execution_count": 58,
   "metadata": {},
   "outputs": [
    {
     "data": {
      "text/plain": [
       "RandomForestClassifier(bootstrap=True, class_weight=None, criterion='gini',\n",
       "            max_depth=None, max_features='auto', max_leaf_nodes=None,\n",
       "            min_impurity_decrease=0.0, min_impurity_split=None,\n",
       "            min_samples_leaf=1, min_samples_split=2,\n",
       "            min_weight_fraction_leaf=0.0, n_estimators=100, n_jobs=None,\n",
       "            oob_score=False, random_state=15, verbose=0, warm_start=False)"
      ]
     },
     "execution_count": 58,
     "metadata": {},
     "output_type": "execute_result"
    }
   ],
   "source": [
    "model_rf.fit(X_train, y_train)"
   ]
  },
  {
   "cell_type": "code",
   "execution_count": 59,
   "metadata": {},
   "outputs": [
    {
     "data": {
      "text/plain": [
       "0.8070709766551015"
      ]
     },
     "execution_count": 59,
     "metadata": {},
     "output_type": "execute_result"
    }
   ],
   "source": [
    "model_rf.score(X_test, y_test)"
   ]
  },
  {
   "cell_type": "code",
   "execution_count": 60,
   "metadata": {},
   "outputs": [
    {
     "name": "stdout",
     "output_type": "stream",
     "text": [
      "              precision    recall  f1-score   support\n",
      "\n",
      "        loss       0.75      0.63      0.69     21288\n",
      "        gain       0.83      0.89      0.86     42409\n",
      "\n",
      "   micro avg       0.81      0.81      0.81     63697\n",
      "   macro avg       0.79      0.76      0.77     63697\n",
      "weighted avg       0.80      0.81      0.80     63697\n",
      "\n"
     ]
    }
   ],
   "source": [
    "print(classification_report(y_test, model_rf.predict(X_test), labels))"
   ]
  },
  {
   "cell_type": "code",
   "execution_count": 61,
   "metadata": {},
   "outputs": [
    {
     "data": {
      "image/png": "[encoded data removed]",
      "text/plain": [
       "<Figure size 480x320 with 1 Axes>"
      ]
     },
     "metadata": {
      "needs_background": "light"
     },
     "output_type": "display_data"
    }
   ],
   "source": [
    "precision_curve, recall_curve, threshold_curve = precision_recall_curve(y_test_binary, model_rf.predict_proba(X_test)[:,0] )\n",
    "\n",
    "plt.figure(dpi=80)\n",
    "plt.plot(threshold_curve, precision_curve[1:],label='precision')\n",
    "plt.plot(threshold_curve, recall_curve[1:], label='recall')\n",
    "plt.legend(loc='lower left')\n",
    "plt.xlabel('Threshold (above this probability, label as )');\n",
    "plt.title('Precision and Recall Curves');\n"
   ]
  },
  {
   "cell_type": "code",
   "execution_count": 63,
   "metadata": {},
   "outputs": [
    {
     "name": "stdout",
     "output_type": "stream",
     "text": [
      "0.862973883298532\n",
      "0.8631570084408613\n",
      "0.8635662843988257\n",
      "0.8638916558930123\n",
      "0.8644291305087629\n",
      "0.8645949421345906\n",
      "0.8648020403990402\n",
      "0.8646657954704999\n",
      "0.8651907105839495\n",
      "0.8648901559252689\n",
      "0.8647845468053491\n",
      "0.8646276712448988\n",
      "0.8644211593340605\n",
      "0.8637263686545206\n",
      "0.8631118318024813\n",
      "0.8628273185528839\n",
      "0.8627275273032764\n",
      "0.8621434356159452\n",
      "0.8613917327728432\n",
      "0.860515532955745\n"
     ]
    }
   ],
   "source": [
    "threshold = np.arange(.30,.50,.01)\n",
    "\n",
    "for i in threshold:\n",
    "    predicted_proba = model_rf.predict_proba(X_test)\n",
    "    predicted = (predicted_proba [:,0] >= i).astype('int')\n",
    "\n",
    "    print(f1_score(y_test_binary, predicted))"
   ]
  },
  {
   "cell_type": "code",
   "execution_count": 64,
   "metadata": {},
   "outputs": [
    {
     "name": "stdout",
     "output_type": "stream",
     "text": [
      "ROC AUC score =  0.8571549261447122\n"
     ]
    },
    {
     "data": {
      "image/png": "[encoded data removed]",
      "text/plain": [
       "<Figure size 432x288 with 1 Axes>"
      ]
     },
     "metadata": {
      "needs_background": "light"
     },
     "output_type": "display_data"
    }
   ],
   "source": [
    "fpr, tpr, thresholds = roc_curve(y_test_binary, model_rf.predict_proba(X_test)[:,0])\n",
    "\n",
    "plt.plot(fpr, tpr,lw=2)\n",
    "plt.plot([0,1],[0,1],c='violet',ls='--')\n",
    "plt.xlim([-0.05,1.05])\n",
    "plt.ylim([-0.05,1.05])\n",
    "\n",
    "plt.xlabel('False positive rate')\n",
    "plt.ylabel('True positive rate')\n",
    "plt.title('ROC curve for yard gains in NFL plays');\n",
    "print(\"ROC AUC score = \", roc_auc_score(y_test_binary, model_rf.predict_proba(X_test)[:,0]))"
   ]
  },
  {
   "cell_type": "code",
   "execution_count": 65,
   "metadata": {},
   "outputs": [
    {
     "name": "stdout",
     "output_type": "stream",
     "text": [
      "              precision    recall  f1-score   support\n",
      "\n",
      "           0       0.82      0.52      0.64     21288\n",
      "           1       0.80      0.94      0.86     42409\n",
      "\n",
      "   micro avg       0.80      0.80      0.80     63697\n",
      "   macro avg       0.81      0.73      0.75     63697\n",
      "weighted avg       0.81      0.80      0.79     63697\n",
      "\n"
     ]
    }
   ],
   "source": [
    "threshold = 0.38\n",
    "\n",
    "predicted_proba = model_rf.predict_proba(X_test)\n",
    "predicted = (predicted_proba [:,0] >= threshold).astype('int')\n",
    "\n",
    "print(classification_report(y_test_binary, predicted))"
   ]
  },
  {
   "cell_type": "code",
   "execution_count": 88,
   "metadata": {},
   "outputs": [
    {
     "data": {
      "text/plain": [
       "array([[0.94, 0.06]])"
      ]
     },
     "execution_count": 88,
     "metadata": {},
     "output_type": "execute_result"
    }
   ],
   "source": [
    "## columns are ydsnet, yardline_100, quarter_seconds_remaining, qtr, down, ydstogo, passing\n",
    "\n",
    "model_rf.predict_proba([[78, 60.0, 350.0, 2, 1.0, 10, 0]])"
   ]
  },
  {
   "cell_type": "markdown",
   "metadata": {},
   "source": [
    "#### Random Forest - Feature Importance - sklearn default"
   ]
  },
  {
   "cell_type": "code",
   "execution_count": 67,
   "metadata": {},
   "outputs": [],
   "source": [
    "from sklearn.feature_selection import SelectFromModel"
   ]
  },
  {
   "cell_type": "code",
   "execution_count": 68,
   "metadata": {},
   "outputs": [
    {
     "data": {
      "text/plain": [
       "array([ True,  True,  True, False, False, False, False])"
      ]
     },
     "execution_count": 68,
     "metadata": {},
     "output_type": "execute_result"
    }
   ],
   "source": [
    "sel = SelectFromModel(ensemble.RandomForestClassifier(n_estimators = 100, random_state = 15))\n",
    "sel.fit(X_train_scaled, y_train)\n",
    "sel.get_support()"
   ]
  },
  {
   "cell_type": "code",
   "execution_count": 69,
   "metadata": {},
   "outputs": [
    {
     "name": "stdout",
     "output_type": "stream",
     "text": [
      "Index(['ydsnet', 'yardline_100', 'quarter_seconds_remaining'], dtype='object')\n"
     ]
    }
   ],
   "source": [
    "selected_feat= X_train.columns[(sel.get_support())]\n",
    "print(selected_feat)"
   ]
  },
  {
   "cell_type": "code",
   "execution_count": 70,
   "metadata": {},
   "outputs": [
    {
     "data": {
      "image/png": "[encoded data removed]",
      "text/plain": [
       "<Figure size 432x288 with 1 Axes>"
      ]
     },
     "metadata": {
      "needs_background": "light"
     },
     "output_type": "display_data"
    }
   ],
   "source": [
    "importances = model_rf.feature_importances_\n",
    "std = np.std([tree.feature_importances_ for tree in model_rf.estimators_],\n",
    "             axis=0)\n",
    "indices = np.argsort(importances)\n",
    "\n",
    "# Plot the feature importances of the forest\n",
    "plt.figure()\n",
    "plt.title(\"Default sklearn Feature Importances\")\n",
    "plt.barh(range(X_train_scaled.shape[1]), importances[indices],\n",
    "       color=\"b\", xerr=std[indices], align=\"center\")\n",
    "# If you want to define your own labels,\n",
    "# change indices to a list of labels on the following line.\n",
    "plt.yticks(range(X_train_scaled.shape[1]), [X_train.columns[i] for i in indices])\n",
    "plt.ylim([-1, X_train_scaled.shape[1]])\n",
    "plt.show()"
   ]
  },
  {
   "cell_type": "markdown",
   "metadata": {},
   "source": [
    "#### Random Forest - Feature Importance - rfpimp version\n",
    "\n",
    "https://github.com/parrt/random-forest-importances"
   ]
  },
  {
   "cell_type": "code",
   "execution_count": 71,
   "metadata": {},
   "outputs": [],
   "source": [
    "from rfpimp import *"
   ]
  },
  {
   "cell_type": "code",
   "execution_count": 72,
   "metadata": {},
   "outputs": [
    {
     "data": {
      "image/png": "[encoded data removed]",
      "text/plain": [
       "<Figure size 432x112.32 with 1 Axes>"
      ]
     },
     "metadata": {
      "needs_background": "light"
     },
     "output_type": "display_data"
    }
   ],
   "source": [
    "model_rf2 = ensemble.RandomForestClassifier(n_estimators=100, random_state=15)\n",
    "model_rf2.fit(X_train, y_train)\n",
    "\n",
    "imp = importances(model_rf2, X_train, y_train) # permutation\n",
    "viz = plot_importances(imp, width=6)\n",
    "viz.view()\n"
   ]
  },
  {
   "cell_type": "markdown",
   "metadata": {},
   "source": [
    "Top 7 features in both cases are ydsnet, yardline_100, ydstogo, quarter_seconds_remaining, qtr, down, and passing"
   ]
  },
  {
   "cell_type": "markdown",
   "metadata": {},
   "source": [
    "## Add model to Tableau"
   ]
  },
  {
   "cell_type": "code",
   "execution_count": 74,
   "metadata": {},
   "outputs": [],
   "source": [
    "import tabpy_client"
   ]
  },
  {
   "cell_type": "code",
   "execution_count": 75,
   "metadata": {},
   "outputs": [],
   "source": [
    "# Connect to TabPy server using the client library\n",
    "tab_connection = tabpy_client.Client('http://localhost:9004/')"
   ]
  },
  {
   "cell_type": "code",
   "execution_count": 76,
   "metadata": {},
   "outputs": [],
   "source": [
    "# Scoring function that will use Random Forest Classifier to classify new data\n",
    "def GainNoGain(ydsnet, yardline_100, quarter_seconds_remaining, qtr, down, ydstogo, passing):\n",
    "    X = np.column_stack([ydsnet, yardline_100, quarter_seconds_remaining, qtr, down, ydstogo, passing])\n",
    "    return model_rf.predict(X).tolist()"
   ]
  },
  {
   "cell_type": "code",
   "execution_count": 77,
   "metadata": {},
   "outputs": [
    {
     "data": {
      "text/plain": [
       "['gain']"
      ]
     },
     "execution_count": 77,
     "metadata": {},
     "output_type": "execute_result"
    }
   ],
   "source": [
    "# Testing function return\n",
    "GainNoGain(20, 50.0, 500.0, 2, 1.0, 10, 1)"
   ]
  },
  {
   "cell_type": "code",
   "execution_count": 78,
   "metadata": {},
   "outputs": [],
   "source": [
    "# Publish the function to TabPy server so it can be used from Tableau\n",
    "# Using the name NFLYardGains and a short description of what it does\n",
    "\n",
    "tab_connection.deploy('NFLYardGains', GainNoGain,\n",
    "                      'Returns if a play will be a yard gain or not based on Random Forest model trained using nflscrapR dataset',\n",
    "                     override = True)"
   ]
  },
  {
   "cell_type": "code",
   "execution_count": 79,
   "metadata": {},
   "outputs": [],
   "source": [
    "_arg1 = [1,2,3,4,6,7,8]\n",
    "_arg2 = [1,2,3,4,6,7,8]\n",
    "_arg3 = [1,2,3,4,6,7,8]\n",
    "_arg4 = [1,2,3,4,6,7,8]\n",
    "_arg5 = [1,2,3,4,6,7,8]\n",
    "_arg6 = [1,2,3,4,6,7,8]\n",
    "_arg7 = [1,2,3,4,6,7,8]"
   ]
  },
  {
   "cell_type": "code",
   "execution_count": 80,
   "metadata": {},
   "outputs": [
    {
     "data": {
      "text/plain": [
       "{'response': ['loss', 'loss', 'gain', 'loss', 'loss', 'loss', 'loss'],\n",
       " 'version': 6,\n",
       " 'model': 'NFLYardGains',\n",
       " 'uuid': '79f35cee-ced6-4ae7-95e3-38d3ecdbebbd'}"
      ]
     },
     "execution_count": 80,
     "metadata": {},
     "output_type": "execute_result"
    }
   ],
   "source": [
    "tab_connection.query('NFLYardGains', _arg1, _arg2, _arg3, _arg4, _arg5, _arg6, _arg7)"
   ]
  },
  {
   "cell_type": "code",
   "execution_count": null,
   "metadata": {},
   "outputs": [],
   "source": []
  }
 ],
 "metadata": {
  "kernelspec": {
   "display_name": "Python 3",
   "language": "python",
   "name": "python3"
  },
  "language_info": {
   "codemirror_mode": {
    "name": "ipython",
    "version": 3
   },
   "file_extension": ".py",
   "mimetype": "text/x-python",
   "name": "python",
   "nbconvert_exporter": "python",
   "pygments_lexer": "ipython3",
   "version": "3.7.2"
  }
 },
 "nbformat": 4,
 "nbformat_minor": 2
}
